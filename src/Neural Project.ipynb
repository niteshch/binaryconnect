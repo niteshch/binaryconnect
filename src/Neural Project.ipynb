{
 "cells": [
  {
   "cell_type": "code",
   "execution_count": null,
   "metadata": {
    "collapsed": false
   },
   "outputs": [],
   "source": [
    "from hw2b import load_data, test_mlp, LogisticRegression, HiddenLayer, MLP, myMLP\n",
    "import theano.tensor as T\n",
    "\n",
    "test_mlp(learning_rate=0.02, L1_reg=0.00, L2_reg=0.0001, \n",
    "         n_epochs=5,batch_size=70,n_hidden=[1], verbose=False, activations=T.tanh)"
   ]
  },
  {
   "cell_type": "code",
   "execution_count": null,
   "metadata": {
    "collapsed": true
   },
   "outputs": [],
   "source": []
  }
 ],
 "metadata": {
  "kernelspec": {
   "display_name": "Python 2",
   "language": "python",
   "name": "python2"
  },
  "language_info": {
   "codemirror_mode": {
    "name": "ipython",
    "version": 2
   },
   "file_extension": ".py",
   "mimetype": "text/x-python",
   "name": "python",
   "nbconvert_exporter": "python",
   "pygments_lexer": "ipython2",
   "version": "2.7.11"
  }
 },
 "nbformat": 4,
 "nbformat_minor": 0
}
