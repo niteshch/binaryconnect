{
 "cells": [
  {
   "cell_type": "markdown",
   "metadata": {},
   "source": [
    "# ECBM E6040 Homework 2 - Programming Problem"
   ]
  },
  {
   "cell_type": "code",
   "execution_count": null,
   "metadata": {
    "collapsed": false
   },
   "outputs": [],
   "source": [
    "from hw2b import load_data, LogisticRegression, HiddenLayer, MLP"
   ]
  },
  {
   "cell_type": "markdown",
   "metadata": {},
   "source": [
    "### Bullet 2: Comparison between _tanh_ and _softmax_"
   ]
  },
  {
   "cell_type": "code",
   "execution_count": 1,
   "metadata": {
    "collapsed": false,
    "scrolled": true
   },
   "outputs": [
    {
     "name": "stdout",
     "output_type": "stream",
     "text": [
      "activation function is  Elemwise{tanh,no_inplace} \n",
      "\n",
      "[500, 500]\n",
      "... loading data\n",
      "... building the model\n",
      "... training\n",
      "Optimization complete. Best validation score of 15.604396 % obtained at iteration 95982, with test performance 17.731998 %"
     ]
    },
    {
     "name": "stderr",
     "output_type": "stream",
     "text": [
      "Using gpu device 0: GRID K520\n",
      "The code for file hw2b.pyc ran for 15.47m"
     ]
    },
    {
     "name": "stdout",
     "output_type": "stream",
     "text": [
      "\n",
      "activation function is  Softmax \n",
      "\n",
      "[500, 500]\n",
      "... loading data\n",
      "... building the model\n",
      "... training\n",
      "Optimization complete. Best validation score of 81.140110 % obtained at iteration 941, with test performance 80.412014 %"
     ]
    },
    {
     "name": "stderr",
     "output_type": "stream",
     "text": [
      "\n",
      "The code for file hw2b.pyc ran for 1.03m"
     ]
    },
    {
     "name": "stdout",
     "output_type": "stream",
     "text": [
      "\n"
     ]
    },
    {
     "name": "stderr",
     "output_type": "stream",
     "text": [
      "\n"
     ]
    }
   ],
   "source": [
    "from hw2b import load_data, test_mlp, LogisticRegression, HiddenLayer, MLP, myMLP\n",
    "import theano.tensor as T\n",
    "\n",
    "#test_mlp(n_hidden=[100],verbose=True)\n",
    "#print \"Not here\"\n",
    "act_func = [T.tanh, T.nnet.softmax]\n",
    "for act in act_func:\n",
    "    print \"activation function is \" , act , \"\\n\"\n",
    "    test_mlp(learning_rate=0.02, L1_reg=0.00, L2_reg=0.0001, \n",
    "         n_epochs=1000,batch_size=70,n_hidden=[500,500], verbose=False, activations=act)\n",
    "    "
   ]
  },
  {
   "cell_type": "markdown",
   "metadata": {},
   "source": [
    "Configuration that I have used for this task is learning rate: - 0.02, epoch 1000, batch size 70, l1 regularizer 0.00, l2, regularizer 0.001 and number of neurons in each layer as 800. Activation function: - Tanh\n",
    "\n",
    "Learning rate: - I increased learning rate to 0.02 because 0.01 was too slow in converging as update was slow. I tried with 0.1 but it became too much for nerual network and it kept jumping too fast to converge properly. So I increased it to 0.02\n",
    "\n",
    "Epoch Size: - 1000. Decreasing the epoch size to 100 or 200 stopped the algo before converging. Therefore, to ensure proper convergence increased it to 1000\n",
    "\n",
    "L1: - Regularizer: 0.00 L1 regularizer is genearly used to handle sparsity. When I increased it to 0.01 all the layers gave exactly same answer. So removed the L1 regularizer after strugling for few hours.\n",
    "\n",
    "L2: - regularizer: It is generally used to control overfitting and keep a tradeoff between variance and bias. As neural network have a tendency to overfit we need this regularizer. But penalizing it overly too much it generalizes too much. Changing parameter to 0.005 and 0.01, performance decreased\n",
    "\n",
    "Number of neurons: - 800 in each layer. Number of input is 32x32x3 and generally every next layer should contain fraction of input layer. So decreasing to 100 - 400 it decreased performance and thus, chose 800 after trying values 100, 400, 1000 etc. \n",
    "\n",
    "Batch size 70: - Batch size was increased from default value 20 to speed up the process. Also, increasing batch size increases the performance till an extent. \n",
    "\n",
    "Tanh performance much better than softmax because tanh gives values between 1 and -1 making better normalization "
   ]
  },
  {
   "cell_type": "markdown",
   "metadata": {},
   "source": [
    "### Bullet 3: Experiment with the number of hidden layers"
   ]
  },
  {
   "cell_type": "code",
   "execution_count": null,
   "metadata": {
    "collapsed": false
   },
   "outputs": [
    {
     "name": "stdout",
     "output_type": "stream",
     "text": [
      "[800]\n",
      "... loading data\n",
      "... building the model\n",
      "... training\n",
      "Optimization complete. Best validation score of 16.799451 % obtained at iteration 220194, with test performance 18.871313 %\n",
      "[800, 800]\n",
      "... loading data\n",
      "... building the model\n",
      "... training\n",
      "Optimization complete. Best validation score of 14.958791 % obtained at iteration 111979, with test performance 18.631189 %"
     ]
    },
    {
     "name": "stderr",
     "output_type": "stream",
     "text": [
      "The code for file hw2b.py ran for 24.77m\n",
      "The code for file hw2b.py ran for 24.44m"
     ]
    },
    {
     "name": "stdout",
     "output_type": "stream",
     "text": [
      "\n",
      "[800, 800, 800]\n",
      "... loading data\n",
      "... building the model\n",
      "... training\n",
      "Optimization complete. Best validation score of 15.467033 % obtained at iteration 79985, with test performance 18.525333%"
     ]
    },
    {
     "name": "stderr",
     "output_type": "stream",
     "text": [
      "\n",
      "The code for file hw2b.py ran for 22.96m"
     ]
    },
    {
     "name": "stdout",
     "output_type": "stream",
     "text": [
      "\n",
      "[800, 800, 800, 800]\n",
      "... loading data\n",
      "... building the model\n",
      "... training\n",
      "Optimization complete. Best validation score of 16.126374 % obtained at iteration 33876, with test performance 17.948209 %"
     ]
    },
    {
     "name": "stderr",
     "output_type": "stream",
     "text": [
      "\n",
      "The code for file hw2b.py ran for 14.61m"
     ]
    },
    {
     "name": "stdout",
     "output_type": "stream",
     "text": [
      "\n",
      "[800, 800, 800, 800, 800]\n",
      "... loading data\n",
      "... building the model\n",
      "... training\n",
      "Optimization complete. Best validation score of 16.620879 % obtained at iteration 27289, with test performance 17.742010%"
     ]
    },
    {
     "name": "stderr",
     "output_type": "stream",
     "text": [
      "\n",
      "The code for file hw2b.py ran for 15.21m"
     ]
    },
    {
     "name": "stdout",
     "output_type": "stream",
     "text": [
      "\n",
      "[800, 800, 800, 800, 800, 800]\n",
      "... loading data\n",
      "... building the model\n",
      "... training\n",
      "Optimization complete. Best validation score of 17.170330 % obtained at iteration 31053, with test performance 17.380053 %"
     ]
    },
    {
     "name": "stderr",
     "output_type": "stream",
     "text": [
      "\n",
      "The code for file hw2b.py ran for 16.46m"
     ]
    },
    {
     "name": "stdout",
     "output_type": "stream",
     "text": [
      "\n",
      "[800, 800, 800, 800, 800, 800, 800]\n",
      "... loading data\n",
      "... building the model\n",
      "... training\n",
      "Optimization complete. Best validation score of 16.991758 % obtained at iteration 24466, with test performance 18.114362 %"
     ]
    },
    {
     "name": "stderr",
     "output_type": "stream",
     "text": [
      "\n",
      "The code for file hw2b.py ran for 17.77m"
     ]
    },
    {
     "name": "stdout",
     "output_type": "stream",
     "text": [
      "\n",
      "[800, 800, 800, 800, 800, 800, 800, 800]\n",
      "... loading data\n",
      "... building the model\n",
      "... training\n",
      "Optimization complete. Best validation score of 15.274725 % obtained at iteration 80926, with test performance 18.113785 %"
     ]
    },
    {
     "name": "stderr",
     "output_type": "stream",
     "text": [
      "\n",
      "The code for file hw2b.py ran for 64.72m"
     ]
    },
    {
     "name": "stdout",
     "output_type": "stream",
     "text": [
      "\n"
     ]
    },
    {
     "name": "stderr",
     "output_type": "stream",
     "text": [
      "\n"
     ]
    }
   ],
   "source": [
    "# TODO\n",
    "from hw2b import load_data, test_mlp, LogisticRegression, HiddenLayer, MLP, myMLP\n",
    "import theano.tensor as T\n",
    "test_errors=[]\n",
    "\n",
    "for i in range(1,9):\n",
    "    hidden_layer = [800 for j in range(i)]\n",
    "    test_errors.append( test_mlp(learning_rate=0.02, L1_reg=0.00, L2_reg=0.0001, \n",
    "         n_epochs=1000,batch_size=70,n_hidden=hidden_layer, verbose=False, activations=T.tanh) )\n"
   ]
  },
  {
   "cell_type": "markdown",
   "metadata": {},
   "source": [
    "Plot the result (reproducing Figure 1)"
   ]
  },
  {
   "cell_type": "code",
   "execution_count": 32,
   "metadata": {
    "collapsed": false
   },
   "outputs": [
    {
     "data": {
      "image/png": "[encoded data removed]",
      "text/plain": [
       "<matplotlib.figure.Figure at 0x103f6b110>"
      ]
     },
     "metadata": {},
     "output_type": "display_data"
    }
   ],
   "source": [
    "test_errors = [18.871313053523293, 18.631189834424335, 18.525333076626872, 17.948209472468228, 17.742010011551791, 17.380053908355794,  18.114362726222563, 18.113785136696187]\n",
    "\n",
    "for i in range(0,8):\n",
    "    test_errors[i] = 100. - test_errors[i]\n",
    "    \n",
    "%matplotlib inline\n",
    "import matplotlib.pyplot as plt\n",
    "plt.plot(range(1,9,1), test_errors, 'bo-')\n",
    "plt.ylabel('Test Accuracy')\n",
    "plt.xlabel('Number of layers')\n",
    "plt.title('Effect of number of layers with every one containing 800')\n",
    "plt.show()"
   ]
  },
  {
   "cell_type": "markdown",
   "metadata": {},
   "source": [
    "Document the choice of parameters, and discuss what you discover."
   ]
  },
  {
   "cell_type": "markdown",
   "metadata": {
    "collapsed": true
   },
   "source": [
    "Configuration that I have used for this task is learning rate: - 0.02, epoch 1000, batch size 70, l1 regularizer 0.00, l2, regularizer 0.001 and number of neurons in each layer as 800. Activation function: - Tanh\n",
    "\n",
    "Learning rate: - I increased learning rate to 0.02 because 0.01 was too slow in converging as update was slow. I tried with 0.1 but it became too much for nerual network and it kept jumping too fast to converge properly. So I increased it to 0.02\n",
    "\n",
    "Epoch Size: - 1000. Decreasing the epoch size to 100 or 200 stopped the algo before converging. Therefore, to ensure proper convergence increased it to 1000\n",
    "\n",
    "L1: - Regularizer: 0.00 L1 regularizer is genearly used to handle sparsity. When I increased it to 0.01 all the layers gave exactly same answer. So removed the L1 regularizer after strugling for few hours.\n",
    "\n",
    "L2: - regularizer: It is generally used to control overfitting and keep a tradeoff between variance and bias. As neural network have a tendency to overfit we need this regularizer. But penalizing it overly too much it generalizes too much. Changing parameter to 0.005 and 0.01, performance decreased\n",
    "\n",
    "Number of neurons: - 800 in each layer. Number of input is 32x32x3 and generally every next layer should contain fraction of input layer. So decreasing to 100 - 400 it decreased performance and thus, chose 800 after trying values 100, 400, 1000 etc. \n",
    "\n",
    "Batch size 70: - Batch size was increased from default value 20 to speed up the process. Also, increasing batch size increases the performance till an extent. \n",
    "\n",
    "Activation function: - Tanh was used as performance of this was maximum compared to softmax and softplus. \n",
    "\n",
    "My observations: - \n",
    "\n",
    "Performance initially increased with the increase in number of layers which was expected because every layers adds different type of learning (lets say layer 1 learns about number of pixels, layers 2 learns about density of pixels, layer 3 learns about edges) so more the number of layers more it tries to fit the model. But after a peak it decreased its performance because it leads to overfitting. This is the spot where model tries to learn weights that are representative of training set. So performance on training set increases maximum but fails on test data. After increasing further, it kind of increases performance little bit due to L2 regularizer that we have which keeps in check overfitting and also allows addition of more layers which learn more from the data. \n"
   ]
  },
  {
   "cell_type": "markdown",
   "metadata": {},
   "source": [
    "### Bullet 4: Experiment with the number of hidden layers, but fix the total number of neurons"
   ]
  },
  {
   "cell_type": "code",
   "execution_count": 1,
   "metadata": {
    "collapsed": false
   },
   "outputs": [
    {
     "name": "stdout",
     "output_type": "stream",
     "text": [
      "[2520]\n",
      "... loading data\n",
      "... building the model\n",
      "... training\n",
      "Optimization complete. Best validation score of 19.986264 % obtained at iteration 108215, with test performance 20.427416 %"
     ]
    },
    {
     "name": "stderr",
     "output_type": "stream",
     "text": [
      "Using gpu device 0: GRID K520\n",
      "The code for file hw2b.pyc ran for 44.11m"
     ]
    },
    {
     "name": "stdout",
     "output_type": "stream",
     "text": [
      "\n",
      "[1260, 1260]\n",
      "... loading data\n",
      "... building the model\n",
      "... training\n",
      "Optimization complete. Best validation score of 15.260989 % obtained at iteration 209843, with test performance 19.565267 %"
     ]
    },
    {
     "name": "stderr",
     "output_type": "stream",
     "text": [
      "\n",
      "The code for file hw2b.pyc ran for 61.04m"
     ]
    },
    {
     "name": "stdout",
     "output_type": "stream",
     "text": [
      "\n",
      "[840, 840, 840]\n",
      "... loading data\n",
      "... building the model\n",
      "... training\n",
      "Optimization complete. Best validation score of 15.357143 % obtained at iteration 79985, with test performance 18.204466 %"
     ]
    },
    {
     "name": "stderr",
     "output_type": "stream",
     "text": [
      "\n",
      "The code for file hw2b.pyc ran for 25.54m"
     ]
    },
    {
     "name": "stdout",
     "output_type": "stream",
     "text": [
      "\n",
      "[630, 630, 630, 630]\n",
      "... loading data\n",
      "... building the model\n",
      "... training\n",
      "Optimization complete. Best validation score of 15.851648 % obtained at iteration 71516, with test performance 17.242973 %"
     ]
    },
    {
     "name": "stderr",
     "output_type": "stream",
     "text": [
      "\n",
      "The code for file hw2b.pyc ran for 20.86m"
     ]
    },
    {
     "name": "stdout",
     "output_type": "stream",
     "text": [
      "\n",
      "[504, 504, 504, 504, 504]\n",
      "... loading data\n",
      "... building the model\n",
      "... training\n",
      "Optimization complete. Best validation score of 16.222527 % obtained at iteration 99746, with test performance 17.787061 %"
     ]
    },
    {
     "name": "stderr",
     "output_type": "stream",
     "text": [
      "\n",
      "The code for file hw2b.pyc ran for 18.15m"
     ]
    },
    {
     "name": "stdout",
     "output_type": "stream",
     "text": [
      "\n",
      "[420, 420, 420, 420, 420, 420]\n",
      "... loading data\n",
      "... building the model\n",
      "... training\n",
      "Optimization complete. Best validation score of 16.112637 % obtained at iteration 105392, with test performance 17.129765 %"
     ]
    },
    {
     "name": "stderr",
     "output_type": "stream",
     "text": [
      "\n",
      "The code for file hw2b.pyc ran for 28.60m"
     ]
    },
    {
     "name": "stdout",
     "output_type": "stream",
     "text": [
      "\n",
      "[360, 360, 360, 360, 360, 360, 360]\n",
      "... loading data\n",
      "... building the model\n",
      "... training\n",
      "Optimization complete. Best validation score of 15.824176 % obtained at iteration 114802, with test performance 17.744705 %"
     ]
    },
    {
     "name": "stderr",
     "output_type": "stream",
     "text": [
      "\n",
      "The code for file hw2b.pyc ran for 28.84m"
     ]
    },
    {
     "name": "stdout",
     "output_type": "stream",
     "text": [
      "\n",
      "[315, 315, 315, 315, 315, 315, 315, 315]\n",
      "... loading data\n",
      "... building the model\n",
      "... training\n",
      "Optimization complete. Best validation score of 16.607143 % obtained at iteration 48932, with test performance 18.205621 %"
     ]
    },
    {
     "name": "stderr",
     "output_type": "stream",
     "text": [
      "\n",
      "The code for file hw2b.pyc ran for 9.72m"
     ]
    },
    {
     "name": "stdout",
     "output_type": "stream",
     "text": [
      "\n"
     ]
    },
    {
     "name": "stderr",
     "output_type": "stream",
     "text": [
      "\n"
     ]
    }
   ],
   "source": [
    "# TODO\n",
    "\n",
    "from hw2b import load_data, test_mlp, LogisticRegression, HiddenLayer, MLP, myMLP\n",
    "import theano.tensor as T\n",
    "test_errors=[]\n",
    "\n",
    "\n",
    "\n",
    "for i in range(1,9):\n",
    "    hidden_layer = [2520/i for j in range(i)]\n",
    "    test_errors.append( test_mlp(learning_rate=0.02, L1_reg=0.00, L2_reg=0.0005, \n",
    "         n_epochs=1000,batch_size=70,n_hidden=hidden_layer, verbose=False, activations=T.tanh) )\n"
   ]
  },
  {
   "cell_type": "markdown",
   "metadata": {},
   "source": [
    "Plot the result (reproducing Figure 2)"
   ]
  },
  {
   "cell_type": "code",
   "execution_count": 39,
   "metadata": {
    "collapsed": false
   },
   "outputs": [
    {
     "data": {
      "image/png": "[encoded data removed]",
      "text/plain": [
       "<matplotlib.figure.Figure at 0x10d12a350>"
      ]
     },
     "metadata": {},
     "output_type": "display_data"
    }
   ],
   "source": [
    "# Copied errrors from above \n",
    "test_errors = [20.427416249518675, 19.565267616480554, 18.204466692337313, 17.242972660762419, 17.787061994609164, 17.129765113592605, 17.74470542934155, 18.205621871390065]\n",
    "\n",
    "for i in range(0,8):\n",
    "    test_errors[i] = 100. - test_errors[i]\n",
    "    \n",
    "%matplotlib inline\n",
    "import matplotlib.pyplot as plt\n",
    "plt.plot(range(1,9,1), test_errors, 'bo-')\n",
    "plt.ylabel('Test Accuracy')\n",
    "plt.xlabel('Number of layers')\n",
    "plt.title('Effect of number of layers keeping total neurons 2520')\n",
    "plt.show()"
   ]
  },
  {
   "cell_type": "markdown",
   "metadata": {},
   "source": [
    "Document the choice of parameters, and discuss what you discover."
   ]
  },
  {
   "cell_type": "markdown",
   "metadata": {
    "collapsed": false
   },
   "source": [
    "Configurations are similar to previous question except for L2 regularizer that was increased as number of neurons were increased to 2520 in total. \n",
    "\n",
    "Configuration that I have used for this task is learning rate: - 0.02, epoch 1000, batch size 70, l1 regularizer 0.00, l2, regularizer 0.005 and number of neurons in each layer as 800. Activation function: - Tanh\n",
    "\n",
    "Learning rate: - I increased learning rate to 0.02 because 0.01 was too slow in converging as update was slow. I tried with 0.1 but it became too much for nerual network and it kept jumping too fast to converge properly. So I increased it to 0.02\n",
    "\n",
    "Epoch Size: - 1000. Decreasing the epoch size to 100 or 200 stopped the algo before converging. Therefore, to ensure proper convergence increased it to 1000\n",
    "\n",
    "L1: - Regularizer: 0.00 L1 regularizer is genearly used to handle sparsity. When I increased it to 0.01 all the layers gave exactly same answer. So removed the L1 regularizer after strugling for few hours.\n",
    "\n",
    "L2: - regularizer: It is generally used to control overfitting and keep a tradeoff between variance and bias. As neural network have a tendency to overfit we need this regularizer. But penalizing it overly too much it generalizes too much. Changing parameter to 0.005 and 0.01, performance decreased\n",
    "\n",
    "Number of neurons: - 800 in each layer. Number of input is 32x32x3 and generally every next layer should contain fracation of input layers. So decreasing to 100 - 400 it decreased performance and thus, chose 800 after trying values 100, 400, 1000 etc. \n",
    "\n",
    "Batch size 70: - Batch size was increased from default value 20 to speed up the process. Also, increasing batch size increases the performance till an extent. \n",
    "\n",
    "Activation function: - Tanh was used as performance of this was maximum compared to softmax and softplus. \n",
    "\n",
    "My observations: - \n",
    "\n",
    "Performance initially is very less because we are trying to really overfit with 2520 neurons in one layers.  Performance initially increased with the increase in number of layers which was expected because every layers adds different type of learning (lets say layer 1 learns about number of pixels, layers 2 learns about density of pixels, layer 3 learns about edges) so more the number of layers more it tries to fit the model. It also decreases number of neurons in each layer helping in the increasing. More the number of layers means more representation of features and model, and decrease in number of neurons leads to prevention of overfitting at the same time. However, it decreases at one point which cannot be directly explained as it should increase the performance. It might be due to the nature of problem with non convex or overfitting with the increase in the number of layers which is later handled by L2 regularizer.  Overfitting is where it tries to learn weights that are representative of training set. So performance on training set increases maximum but fails on test data. After increasing further, it kind of increases performance little bit due to L2 regularizer that we have which keeps in check overfitting and also allows addition of more layers which learn more from the data. \n",
    "\n"
   ]
  },
  {
   "cell_type": "markdown",
   "metadata": {},
   "source": [
    "### Bullet 5: Experiment with the number of neurons in hidden layers, but fix the number of hidden layers"
   ]
  },
  {
   "cell_type": "code",
   "execution_count": null,
   "metadata": {
    "collapsed": false,
    "scrolled": false
   },
   "outputs": [
    {
     "name": "stdout",
     "output_type": "stream",
     "text": [
      "[500]\n",
      "... loading data\n",
      "... building the model\n",
      "... training\n",
      "Optimization complete. Best validation score of 21.785714 % obtained at iteration 94100, with test performance 22.795533 %\n",
      "[1000]\n",
      "... loading data\n",
      "... building the model\n",
      "... training\n",
      "Optimization complete. Best validation score of 21.579670 % obtained at iteration 94100, with test performance 22.475934 %"
     ]
    },
    {
     "name": "stderr",
     "output_type": "stream",
     "text": [
      "The code for file hw2b.py ran for 7.03m\n",
      "The code for file hw2b.py ran for 13.01m"
     ]
    },
    {
     "name": "stdout",
     "output_type": "stream",
     "text": [
      "\n",
      "[1500]\n",
      "... loading data\n",
      "... building the model\n",
      "... training\n",
      "Optimization complete. Best validation score of 21.497253 % obtained at iteration 94100, with test performance 22.649211 %"
     ]
    },
    {
     "name": "stderr",
     "output_type": "stream",
     "text": [
      "\n",
      "The code for file hw2b.py ran for 19.15m"
     ]
    },
    {
     "name": "stdout",
     "output_type": "stream",
     "text": [
      "\n",
      "[2000]\n",
      "... loading data\n",
      "... building the model\n",
      "... training\n",
      "Optimization complete. Best validation score of 22.197802 % obtained at iteration 94100, with test performance 23.469388 %"
     ]
    },
    {
     "name": "stderr",
     "output_type": "stream",
     "text": [
      "\n",
      "The code for file hw2b.py ran for 24.71m"
     ]
    },
    {
     "name": "stdout",
     "output_type": "stream",
     "text": [
      "\n",
      "[2500]\n",
      "... loading data\n",
      "... building the model\n",
      "... training\n",
      "Optimization complete. Best validation score of 21.978022 % obtained at iteration 93159, with test performance 22.884097 %"
     ]
    },
    {
     "name": "stderr",
     "output_type": "stream",
     "text": [
      "\n",
      "The code for file hw2b.py ran for 30.92m"
     ]
    },
    {
     "name": "stdout",
     "output_type": "stream",
     "text": [
      "\n",
      "[500, 500]\n",
      "... loading data\n",
      "... building the model\n",
      "... training\n",
      "Optimization complete. Best validation score of 19.340659 % obtained at iteration 81867, with test performance 20.496727 %"
     ]
    },
    {
     "name": "stderr",
     "output_type": "stream",
     "text": [
      "\n",
      "The code for file hw2b.py ran for 8.72m"
     ]
    },
    {
     "name": "stdout",
     "output_type": "stream",
     "text": [
      "\n",
      "[1000, 1000]\n",
      "... loading data\n",
      "... building the model\n",
      "... training\n",
      "Optimization complete. Best validation score of 19.079670 % obtained at iteration 90336, with test performance 20.011552 %"
     ]
    },
    {
     "name": "stderr",
     "output_type": "stream",
     "text": [
      "\n",
      "The code for file hw2b.py ran for 17.20m"
     ]
    },
    {
     "name": "stdout",
     "output_type": "stream",
     "text": [
      "\n",
      "[1500, 1500]\n",
      "... loading data\n",
      "... building the model\n",
      "... training\n",
      "Optimization complete. Best validation score of 19.890110 % obtained at iteration 94100, with test performance 20.912591 %"
     ]
    },
    {
     "name": "stderr",
     "output_type": "stream",
     "text": [
      "\n",
      "The code for file hw2b.py ran for 32.57m"
     ]
    },
    {
     "name": "stdout",
     "output_type": "stream",
     "text": [
      "\n",
      "[2000, 2000]\n",
      "... loading data\n",
      "... building the model\n",
      "... training\n",
      "Optimization complete. Best validation score of 20.151099 % obtained at iteration 91277, with test performance 21.101271 %"
     ]
    },
    {
     "name": "stderr",
     "output_type": "stream",
     "text": [
      "\n",
      "The code for file hw2b.py ran for 45.81m"
     ]
    },
    {
     "name": "stdout",
     "output_type": "stream",
     "text": [
      "\n",
      "[2500, 2500]\n",
      "... loading data\n",
      "... building the model\n",
      "... training\n",
      "Optimization complete. Best validation score of 19.505495 % obtained at iteration 94100, with test performance 20.223335 %"
     ]
    },
    {
     "name": "stderr",
     "output_type": "stream",
     "text": [
      "\n",
      "The code for file hw2b.py ran for 66.30m"
     ]
    },
    {
     "name": "stdout",
     "output_type": "stream",
     "text": [
      "\n",
      "[500, 250]\n",
      "... loading data\n",
      "... building the model\n",
      "... training\n",
      "Optimization complete. Best validation score of 16.057692 % obtained at iteration 94100, with test performance 17.054293 %"
     ]
    },
    {
     "name": "stderr",
     "output_type": "stream",
     "text": [
      "\n",
      "The code for file hw2b.py ran for 7.99m"
     ]
    },
    {
     "name": "stdout",
     "output_type": "stream",
     "text": [
      "\n",
      "[1000, 500]\n",
      "... loading data\n",
      "... building the model\n",
      "... training\n",
      "Optimization complete. Best validation score of 15.233516 % obtained at iteration 94100, with test performance 16.815556 %"
     ]
    },
    {
     "name": "stderr",
     "output_type": "stream",
     "text": [
      "\n",
      "The code for file hw2b.py ran for 15.63m"
     ]
    },
    {
     "name": "stdout",
     "output_type": "stream",
     "text": [
      "\n",
      "[1500, 750]\n",
      "... loading data\n",
      "... building the model\n",
      "... training\n",
      "Optimization complete. Best validation score of 15.480769 % obtained at iteration 94100, with test performance 16.958028 %"
     ]
    },
    {
     "name": "stderr",
     "output_type": "stream",
     "text": [
      "\n",
      "The code for file hw2b.py ran for 23.61m"
     ]
    },
    {
     "name": "stdout",
     "output_type": "stream",
     "text": [
      "\n",
      "[2000, 1000]\n",
      "... loading data\n",
      "... building the model\n",
      "... training\n",
      "Optimization complete. Best validation score of 15.961538 % obtained at iteration 92218, with test performance 16.861764 %"
     ]
    },
    {
     "name": "stderr",
     "output_type": "stream",
     "text": [
      "\n",
      "The code for file hw2b.py ran for 32.41m"
     ]
    },
    {
     "name": "stdout",
     "output_type": "stream",
     "text": [
      "\n",
      "[2500, 1250]\n",
      "... loading data\n",
      "... building the model\n",
      "... training\n",
      "Optimization complete. Best validation score of 15.590659 % obtained at iteration 94100, with test performance 16.915672 %"
     ]
    },
    {
     "name": "stderr",
     "output_type": "stream",
     "text": [
      "\n",
      "The code for file hw2b.py ran for 44.12m"
     ]
    },
    {
     "name": "stdout",
     "output_type": "stream",
     "text": [
      "\n"
     ]
    },
    {
     "name": "stderr",
     "output_type": "stream",
     "text": [
      "\n"
     ]
    }
   ],
   "source": [
    "# TODO\n",
    "from hw2b import load_data, test_mlp, LogisticRegression, HiddenLayer, MLP, myMLP\n",
    "import theano.tensor as T\n",
    "\n",
    "hidden_neurons = [500,1000,1500,2000,2500]\n",
    "#hidden_neurons = [5]\n",
    "layer1_errors=[];\n",
    "\n",
    "\n",
    "for neurons in hidden_neurons:\n",
    "    layer1_errors.append( test_mlp(learning_rate=0.02, L1_reg=0.00, L2_reg=0.001, \n",
    "         n_epochs=100,batch_size=70,n_hidden=[neurons], verbose=False, activations=T.tanh) )\n",
    "\n",
    "#for 2 layers\n",
    "layer2_errors=[];\n",
    "\n",
    "for neurons in hidden_neurons:\n",
    "    layer2_errors.append( test_mlp(learning_rate=0.02, L1_reg=0.00, L2_reg=0.001, \n",
    "         n_epochs=100,batch_size=70,n_hidden=[neurons,neurons], verbose=False, activations=T.tanh) )\n",
    "    \n",
    "    \n",
    "#Half neurons in second layer\n",
    "layer2_half_errors=[]\n",
    "\n",
    "for neurons in hidden_neurons:\n",
    "    layer2_half_errors.append( test_mlp(learning_rate=0.02, L1_reg=0.00, L2_reg=0.0005, \n",
    "         n_epochs=100,batch_size=70,n_hidden=[neurons,neurons/2], verbose=False, activations=T.tanh) )\n",
    "    \n"
   ]
  },
  {
   "cell_type": "markdown",
   "metadata": {},
   "source": [
    "Plot the result (reproducing Figure 3)"
   ]
  },
  {
   "cell_type": "code",
   "execution_count": 13,
   "metadata": {
    "collapsed": false
   },
   "outputs": [
    {
     "data": {
      "image/png": "[encoded data removed]",
      "text/plain": [
       "<matplotlib.figure.Figure at 0x10d1291d0>"
      ]
     },
     "metadata": {},
     "output_type": "display_data"
    },
    {
     "data": {
      "image/png": "[encoded data removed]",
      "text/plain": [
       "<matplotlib.figure.Figure at 0x103f6be50>"
      ]
     },
     "metadata": {},
     "output_type": "display_data"
    },
    {
     "data": {
      "image/png": "[encoded data removed]",
      "text/plain": [
       "<matplotlib.figure.Figure at 0x103f86110>"
      ]
     },
     "metadata": {},
     "output_type": "display_data"
    }
   ],
   "source": [
    "# TODO \n",
    "layer1_errors = [22.795533307662684, 22.475933769734304, 22.649210627647285, 23.469387755102041, 22.884097035040433]\n",
    "layer2_errors = [20.496726992683868, 20.01155179052753, 20.912591451675006, 21.101270696958029, 20.223334616865614]\n",
    "layer2_half_errors = [17.0542934154794, 16.815556411243744, 16.958028494416634, 16.861763573353869, 16.915671929149017]\n",
    "\n",
    "for i in range(0,5):\n",
    "    layer1_errors[i] = 100. - layer1_errors[i]\n",
    "    layer2_errors[i] = 100. - layer2_errors[i]\n",
    "    layer2_half_errors[i] = 100. - layer2_half_errors[i]\n",
    "\n",
    "%matplotlib inline\n",
    "import matplotlib.pyplot as plt\n",
    "plt.plot(range(500,3000,500), layer1_errors, 'bo-')\n",
    "plt.ylabel('Test Accuracy')\n",
    "plt.xlabel('Number of neurons')\n",
    "plt.title('Effect of number of Neurons in 1 Hidden layer')\n",
    "plt.show()\n",
    "\n",
    "plt.plot(range(500,3000,500), layer2_errors, 'bo-')\n",
    "plt.ylabel('Test Accuracy')\n",
    "plt.xlabel('Number of neurons')\n",
    "plt.title('Effect of number of Neurons in 2 Hidden layer')\n",
    "plt.show()\n",
    "\n",
    "plt.plot(range(500,3000,500), layer2_half_errors, 'bo-')\n",
    "plt.ylabel('Test Accuracy')\n",
    "plt.xlabel('Number of neurons')\n",
    "plt.title('Effect of number of Neurons in 2 Hidden layer with second layer half neurons')\n",
    "plt.show()"
   ]
  },
  {
   "cell_type": "markdown",
   "metadata": {},
   "source": [
    "Document the choice of parameters, and discuss what you discover."
   ]
  },
  {
   "cell_type": "markdown",
   "metadata": {
    "collapsed": false
   },
   "source": [
    "Configurations are similar to question 3 except for L2 regularizer that was increased as number of neurons were used till 2500.\n",
    "\n",
    "Configuration that I have used for this task is learning rate: - 0.02, epoch 1000, batch size 70, l1 regularizer 0.00, l2, regularizer 0.005 and number of neurons in each layer as 800. Activation function: - Tanh\n",
    "\n",
    "Learning rate: - I increased learning rate to 0.02 because 0.01 was too slow in converging as update was slow. I tried with 0.1 but it became too much for nerual network and it kept jumping too fast to converge properly. So I increased it to 0.02\n",
    "\n",
    "Epoch Size: - 1000. Decreasing the epoch size to 100 or 200 stopped the algo before converging. Therefore, to ensure proper convergence increased it to 1000\n",
    "\n",
    "L1: - Regularizer: 0.00 L1 regularizer is genearly used to handle sparsity. When I increased it to 0.01 all the layers gave exactly same answer. So removed the L1 regularizer after strugling for few hours.\n",
    "\n",
    "L2: - regularizer: It is generally used to control overfitting and keep a tradeoff between variance and bias. As neural network have a tendency to overfit we need this regularizer. But penalizing it overly too much it generalizes too much. Changing parameter to 0.005 and 0.01, performance decreased\n",
    "\n",
    "Number of neurons: - 800 in each layer. Number of input is 32x32x3 and generally every next layer should contain fracation of input layers. So decreasing to 100 - 400 it decreased performance and thus, chose 800 after trying values 100, 400, 1000 etc. \n",
    "\n",
    "Batch size 70: - Batch size was increased from default value 20 to speed up the process. Also, increasing batch size increases the performance till an extent. \n",
    "\n",
    "Activation function: - Tanh was used as performance of this was maximum compared to softmax and softplus. \n",
    "\n",
    "My observations: - \n",
    "\n",
    "There are two three different experiments done by me in the task. First one contains only one layers with varying number of neurons. It shows similar trend where it increases the performance initially as very less number of neruons with 1 layer is not able to handle representation properly as there is sudden decrease number of neurons from input to hidden and hidden to output. As the neurons is increased to a particluar value, performance reaches peak point. After that it takes dip because of overfitting and then again increases due to L2 regularizer controlling some of the overfitting. Overall pattern is sinosudioal with random peaks and troughs which might be attributed to varying number of parameters, overfitting and L2 regularizer. \n",
    "\n",
    "In two layers it is similar to one layer with addition of extra learning in one more layer that represents data more properly. Therefore, its preformance is always better than one layer. Rest of the trend with dip is similar as same situation happens here also with overfitting and paramters. \n",
    "Overall pattern is sinosudioal with random peaks and troughs which might be attributed to varying number of parameters, overfitting and L2 regularizer. \n",
    "\n",
    "\n",
    "\n",
    "Third experiment although not mentioned explicitly was done to see varying number of neurons that is decreasing in the follwing hidden layer and see it performance. It had maximum performance as it not only reduced the number of neurons decreasing learned parameters, preventing overfitting and learning more layers. Hidden to ouptut is also gradual decrease instead of large dip increasing perforamnce \n",
    " Overall pattern is sinosudioal with random peaks and troughs which might be attributed to varying number of parameters, overfitting and L2 regularizer. \n",
    "\n",
    "\n",
    "\n",
    "\n",
    "\n"
   ]
  },
  {
   "cell_type": "code",
   "execution_count": null,
   "metadata": {
    "collapsed": true
   },
   "outputs": [],
   "source": []
  }
 ],
 "metadata": {
  "kernelspec": {
   "display_name": "Python 2",
   "language": "python",
   "name": "python2"
  },
  "language_info": {
   "codemirror_mode": {
    "name": "ipython",
    "version": 2
   },
   "file_extension": ".py",
   "mimetype": "text/x-python",
   "name": "python",
   "nbconvert_exporter": "python",
   "pygments_lexer": "ipython2",
   "version": "2.7.11"
  }
 },
 "nbformat": 4,
 "nbformat_minor": 0
}
